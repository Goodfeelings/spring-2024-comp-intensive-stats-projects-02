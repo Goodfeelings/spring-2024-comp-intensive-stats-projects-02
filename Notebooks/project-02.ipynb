{
 "cells": [
  {
   "cell_type": "markdown",
   "metadata": {},
   "source": [
    "# Reload"
   ]
  },
  {
   "cell_type": "code",
   "execution_count": 1,
   "metadata": {},
   "outputs": [],
   "source": [
    "import numpy as np \n",
    "import pyarrow\n",
    "import pandas as pd \n",
    "\n",
    "import matplotlib.pyplot as plt \n",
    "import seaborn as sns\n",
    "\n",
    "df_original_data = pd.read_csv('../Data/haircut.csv')\n",
    "df_bootstrap_samples = pd.read_csv('../Data/bootstrap_samples.csv').drop('Unnamed: 0', axis=1)\n",
    "df_parameter_estimates_percentile = pd.read_csv('../Data/Percentile Estimates Data.csv').drop('Unnamed: 0', axis=1)\n",
    "df_percentile_standard_deviations_comparison = pd.read_csv('../Data/Percentile Means Comparison Samples.csv').drop('Unnamed: 0', axis=1)\n",
    "df_bootstrap_t_samples = pd.read_csv('../Data/bootstrap_t_samples.csv').drop('Unnamed: 0', axis=1)\n",
    "df_parameter_estimates_bootstrap_t = pd.read_csv('../Data/Bootstrap t Estimates Data.csv').drop('Unnamed: 0', axis=1)\n",
    "\n",
    "number_of_values_per_sample = len(df_original_data)\n",
    "number_of_bootstrap_samples = 500\n",
    "number_of_bootstrap_t_samples = 500\n",
    "percentile_method_alpha = 0.10\n",
    "bootstrap_t_alpha = 0.10"
   ]
  },
  {
   "cell_type": "markdown",
   "metadata": {},
   "source": [
    "# Setup"
   ]
  },
  {
   "cell_type": "markdown",
   "metadata": {},
   "source": [
    "## Load Libraries"
   ]
  },
  {
   "cell_type": "code",
   "execution_count": 1,
   "metadata": {},
   "outputs": [
    {
     "name": "stdout",
     "output_type": "stream",
     "text": [
      "Requirement already satisfied: pyarrow in /usr/local/python/3.10.13/lib/python3.10/site-packages (15.0.0)\n",
      "Requirement already satisfied: numpy<2,>=1.16.6 in /home/codespace/.local/lib/python3.10/site-packages (from pyarrow) (1.26.4)\n"
     ]
    }
   ],
   "source": [
    "!pip install pyarrow"
   ]
  },
  {
   "cell_type": "code",
   "execution_count": 3,
   "metadata": {},
   "outputs": [],
   "source": [
    "import numpy as np \n",
    "import pyarrow\n",
    "import pandas as pd \n",
    "\n",
    "import matplotlib.pyplot as plt \n",
    "import seaborn as sns"
   ]
  },
  {
   "cell_type": "markdown",
   "metadata": {},
   "source": [
    "## Set Values"
   ]
  },
  {
   "cell_type": "code",
   "execution_count": 8,
   "metadata": {},
   "outputs": [],
   "source": [
    "number_of_bootstrap_samples = 500\n",
    "number_of_bootstrap_t_samples = 500\n",
    "percentile_method_alpha = 0.10\n",
    "bootstrap_t_alpha = 0.10"
   ]
  },
  {
   "cell_type": "markdown",
   "metadata": {},
   "source": [
    "## Create Original Dataframe"
   ]
  },
  {
   "cell_type": "code",
   "execution_count": 3,
   "metadata": {},
   "outputs": [],
   "source": [
    "# Load in the original data's dataframe\n",
    "df_original_data = pd.read_csv('../Data/haircut.csv')"
   ]
  },
  {
   "cell_type": "code",
   "execution_count": 14,
   "metadata": {},
   "outputs": [
    {
     "name": "stdout",
     "output_type": "stream",
     "text": [
      "15\n"
     ]
    }
   ],
   "source": [
    "number_of_values_per_sample = len(df_original_data)\n",
    "print(number_of_values_per_sample)"
   ]
  },
  {
   "cell_type": "markdown",
   "metadata": {},
   "source": [
    "# Percentile Method"
   ]
  },
  {
   "cell_type": "markdown",
   "metadata": {},
   "source": [
    "## Create Bootstrap Sample Dataframe and Generate Samples"
   ]
  },
  {
   "cell_type": "code",
   "execution_count": 6,
   "metadata": {},
   "outputs": [],
   "source": [
    "# Define a function that will sample, with replacement, from the original sample for the prescribed number of times.\n",
    "def generage_bootstrap_samples(data):\n",
    "    return np.random.choice(data, size=len(data), replace=True)"
   ]
  },
  {
   "cell_type": "code",
   "execution_count": 15,
   "metadata": {},
   "outputs": [],
   "source": [
    "# Create our empty dataframe.\n",
    "df_bootstrap_samples = pd.DataFrame(index=range(len(df_original_data)), columns=[f'Bootstrap Sample {i+1}' for i in range(number_of_bootstrap_samples)])"
   ]
  },
  {
   "cell_type": "code",
   "execution_count": 22,
   "metadata": {},
   "outputs": [],
   "source": [
    "# Generate our samples.\n",
    "for i in range(number_of_bootstrap_samples):\n",
    "    bootstrap_sample_values = generage_bootstrap_samples(df_original_data['Response (In Dollars)'])\n",
    "    df_bootstrap_samples[f'Bootstrap Sample {i+1}'] = bootstrap_sample_values"
   ]
  },
  {
   "cell_type": "code",
   "execution_count": 24,
   "metadata": {},
   "outputs": [],
   "source": [
    "# Save the dataframe\n",
    "df_bootstrap_samples.to_csv('../Data/bootstrap_samples.csv')"
   ]
  },
  {
   "cell_type": "code",
   "execution_count": 7,
   "metadata": {},
   "outputs": [],
   "source": [
    "# Load the dataframe, if necessary\n",
    "df_bootstrap_samples = pd.read_csv('../Data/bootstrap_samples.csv')"
   ]
  },
  {
   "cell_type": "markdown",
   "metadata": {},
   "source": [
    "## Generate Percentile Method Parameters"
   ]
  },
  {
   "cell_type": "code",
   "execution_count": 59,
   "metadata": {},
   "outputs": [],
   "source": [
    "# Create our dataframe\n",
    "df_parameter_estimates_percentile = pd.DataFrame(index=range(1, number_of_bootstrap_samples + 1), columns=['Original Index', 'Sample Mean', 'Sample Mean Rank', 'Sample Standard Deviation', 'Sample Standard Deviation Rank'])"
   ]
  },
  {
   "cell_type": "code",
   "execution_count": 60,
   "metadata": {},
   "outputs": [],
   "source": [
    "# Populate the DataFrame with the parameter values.\n",
    "for i in range(1, number_of_bootstrap_samples + 1):\n",
    "    # Get the i-th bootstrap sample from our bootstrap samples dataframe.\n",
    "    bootstrap_sample = df_bootstrap_samples[f'Bootstrap Sample {i}']\n",
    "    \n",
    "    # Calculate the sample parameters.\n",
    "    sample_mean = bootstrap_sample.mean()\n",
    "    sample_standard_deviation = bootstrap_sample.std()\n",
    "    \n",
    "    # Populate DataFrame\n",
    "    df_parameter_estimates_percentile.loc[i, 'Original Index'] = i\n",
    "    df_parameter_estimates_percentile.loc[i, 'Sample Mean'] = sample_mean\n",
    "    df_parameter_estimates_percentile.loc[i, 'Sample Standard Deviation'] = sample_standard_deviation"
   ]
  },
  {
   "cell_type": "markdown",
   "metadata": {},
   "source": [
    "## Order Percentile Parameter Values"
   ]
  },
  {
   "cell_type": "code",
   "execution_count": 61,
   "metadata": {},
   "outputs": [],
   "source": [
    "# Rank order the sample means\n",
    "df_parameter_estimates_percentile.sort_values(by='Sample Mean', inplace=True)\n",
    "df_parameter_estimates_percentile['Sample Mean Rank'] = range(1, number_of_bootstrap_samples + 1)\n",
    "df_parameter_estimates_percentile.sort_values(by='Original Index', inplace=True)"
   ]
  },
  {
   "cell_type": "code",
   "execution_count": 62,
   "metadata": {},
   "outputs": [],
   "source": [
    "# Rank order the sample standard deviations\n",
    "df_parameter_estimates_percentile.sort_values(by='Sample Standard Deviation', inplace=True)\n",
    "df_parameter_estimates_percentile['Sample Standard Deviation Rank'] = range(1, number_of_bootstrap_samples + 1)\n",
    "df_parameter_estimates_percentile.sort_values(by='Original Index', inplace=True)"
   ]
  },
  {
   "cell_type": "markdown",
   "metadata": {},
   "source": [
    "## Find Confidence Interval Values & Their Indices"
   ]
  },
  {
   "cell_type": "code",
   "execution_count": 64,
   "metadata": {},
   "outputs": [
    {
     "name": "stdout",
     "output_type": "stream",
     "text": [
      "Percentile Method Alpha Value: 0.1.\n",
      "Lower Percentile Rank Value: 26.\n",
      "Upper Percentile Rank Value: 476.\n"
     ]
    }
   ],
   "source": [
    "lower_percentile_rank_value = int(np.floor(number_of_bootstrap_samples*(percentile_method_alpha/2) + 1))\n",
    "upper_percentile_rank_value = int(np.floor(number_of_bootstrap_samples*(1 - percentile_method_alpha/2) + 1))\n",
    "\n",
    "print(f'Percentile Method Alpha Value: {percentile_method_alpha}.')\n",
    "print(f'Lower Percentile Rank Value: {lower_percentile_rank_value}.')\n",
    "print(f'Upper Percentile Rank Value: {upper_percentile_rank_value}.')"
   ]
  },
  {
   "cell_type": "code",
   "execution_count": 65,
   "metadata": {},
   "outputs": [
    {
     "name": "stdout",
     "output_type": "stream",
     "text": [
      "Percentile Method Confidence Interval: (41.6,75.46666666666667).\n",
      "Lower Value Original Index: 385.\n",
      "Upper Value Original Index: 349.\n"
     ]
    }
   ],
   "source": [
    "lower_percentile_sample_mean = df_parameter_estimates_percentile[df_parameter_estimates_percentile['Sample Mean Rank'] == lower_percentile_rank_value]['Sample Mean'].values[0]\n",
    "lower_percentile_sample_mean_original_index_value = df_parameter_estimates_percentile[df_parameter_estimates_percentile['Sample Mean Rank'] == lower_percentile_rank_value]['Original Index'].values[0]\n",
    "upper_percentile_sample_mean = df_parameter_estimates_percentile[df_parameter_estimates_percentile['Sample Mean Rank'] == upper_percentile_rank_value]['Sample Mean'].values[0]\n",
    "upper_percentile_sample_mean_original_index_value = df_parameter_estimates_percentile[df_parameter_estimates_percentile['Sample Mean Rank'] == upper_percentile_rank_value]['Original Index'].values[0]\n",
    "\n",
    "print(f'Percentile Method Confidence Interval: ({lower_percentile_sample_mean},{upper_percentile_sample_mean}).')\n",
    "print(f'Lower Value Original Index: {lower_percentile_sample_mean_original_index_value}.')\n",
    "print(f'Upper Value Original Index: {upper_percentile_sample_mean_original_index_value}.')"
   ]
  },
  {
   "cell_type": "code",
   "execution_count": 66,
   "metadata": {},
   "outputs": [
    {
     "name": "stdout",
     "output_type": "stream",
     "text": [
      "Percentile Method Confidence Interval: (25.502941006872128,55.17608177462406).\n",
      "Lower Value Original Index: 385.\n",
      "Upper Value Original Index: 462.\n"
     ]
    }
   ],
   "source": [
    "lower_percentile_sample_standard_deviation = df_parameter_estimates_percentile[df_parameter_estimates_percentile['Sample Standard Deviation Rank'] == lower_percentile_rank_value]['Sample Standard Deviation'].values[0]\n",
    "lower_percentile_sample_standard_deviation_original_index_value = df_parameter_estimates_percentile[df_parameter_estimates_percentile['Sample Standard Deviation Rank'] == lower_percentile_rank_value]['Original Index'].values[0]\n",
    "upper_percentile_sample_standard_deviation = df_parameter_estimates_percentile[df_parameter_estimates_percentile['Sample Standard Deviation Rank'] == upper_percentile_rank_value]['Sample Standard Deviation'].values[0]\n",
    "upper_percentile_sample_standard_deviation_original_index_value = df_parameter_estimates_percentile[df_parameter_estimates_percentile['Sample Standard Deviation Rank'] == upper_percentile_rank_value]['Original Index'].values[0]\n",
    "\n",
    "print(f'Percentile Method Confidence Interval: ({lower_percentile_sample_standard_deviation},{upper_percentile_sample_standard_deviation}).')\n",
    "print(f'Lower Value Original Index: {lower_percentile_sample_standard_deviation_original_index_value}.')\n",
    "print(f'Upper Value Original Index: {upper_percentile_sample_standard_deviation_original_index_value}.')"
   ]
  },
  {
   "cell_type": "code",
   "execution_count": 67,
   "metadata": {},
   "outputs": [],
   "source": [
    "# Save to a dataframe\n",
    "df_parameter_estimates_percentile.to_csv('../Data/Percentile Estimates Data.csv')"
   ]
  },
  {
   "cell_type": "code",
   "execution_count": 68,
   "metadata": {},
   "outputs": [],
   "source": [
    "# Load the dataframe, if necessary\n",
    "df_parameter_estimates_percentile = pd.read_csv('../Data/Percentile Estimates Data.csv').drop('Unnamed: 0', axis=1)"
   ]
  },
  {
   "cell_type": "markdown",
   "metadata": {},
   "source": [
    "## Percentile Method: Graph The Outcomes (Means)"
   ]
  },
  {
   "cell_type": "markdown",
   "metadata": {},
   "source": [
    "### Percentile Method Means"
   ]
  },
  {
   "cell_type": "code",
   "execution_count": 69,
   "metadata": {},
   "outputs": [],
   "source": [
    "# Our Confidence Interval Sample Values\n",
    "lower_percentile_sample_row = df_parameter_estimates_percentile.loc[df_parameter_estimates_percentile['Sample Mean Rank'] == lower_percentile_rank_value]\n",
    "lower_percentile_sample_row_original_index = int(lower_percentile_sample_row.iloc[0]['Original Index'])\n",
    "\n",
    "upper_percentile_sample_row = df_parameter_estimates_percentile.loc[df_parameter_estimates_percentile['Sample Mean Rank'] == upper_percentile_rank_value]\n",
    "upper_percentile_sample_row_original_index = int(upper_percentile_sample_row.iloc[0]['Original Index'])"
   ]
  },
  {
   "cell_type": "code",
   "execution_count": 70,
   "metadata": {},
   "outputs": [],
   "source": [
    "# We want boxplots for these, so we'll fetch them from the original bootstrap sample list.\n",
    "upper_percentile_bootstrap_sample = df_bootstrap_samples[f'Bootstrap Sample {upper_percentile_sample_row_original_index}']\n",
    "lower_percentile_bootstrap_sample = df_bootstrap_samples[f'Bootstrap Sample {lower_percentile_sample_row_original_index}']"
   ]
  },
  {
   "cell_type": "code",
   "execution_count": 71,
   "metadata": {},
   "outputs": [],
   "source": [
    "# We will include the 25th, 50th, and 75th percentile values for comparison.\n",
    "percentile_sample_row_25 = df_parameter_estimates_percentile.loc[df_parameter_estimates_percentile['Sample Mean Rank'] == int(np.floor(number_of_bootstrap_samples*0.25))]\n",
    "percentile_sample_row_25_original_index = int(percentile_sample_row_25.iloc[0]['Original Index'])\n",
    "percentile_bootstrap_sample_25th = df_bootstrap_samples[f'Bootstrap Sample {percentile_sample_row_25_original_index}']\n",
    "\n",
    "percentile_sample_row_50 = df_parameter_estimates_percentile.loc[df_parameter_estimates_percentile['Sample Mean Rank'] == int(np.floor(number_of_bootstrap_samples*0.50))]\n",
    "percentile_sample_row_50_original_index = int(percentile_sample_row_50.iloc[0]['Original Index'])\n",
    "percentile_bootstrap_sample_50th = df_bootstrap_samples[f'Bootstrap Sample {percentile_sample_row_50_original_index}']\n",
    "\n",
    "percentile_sample_row_75 = df_parameter_estimates_percentile.loc[df_parameter_estimates_percentile['Sample Mean Rank'] == int(np.floor(number_of_bootstrap_samples*0.75))]\n",
    "percentile_sample_row_75_original_index = int(percentile_sample_row_75.iloc[0]['Original Index'])\n",
    "percentile_bootstrap_sample_75th = df_bootstrap_samples[f'Bootstrap Sample {percentile_sample_row_75_original_index}']"
   ]
  },
  {
   "cell_type": "code",
   "execution_count": 72,
   "metadata": {},
   "outputs": [
    {
     "name": "stdout",
     "output_type": "stream",
     "text": [
      "Lower Interval Index Value - Ranked Percentile Samples: 26\n",
      "Lower Interval Index Value - Original Percentile Samples: 385 \n",
      "\n",
      "25th Percentile Index Value - Ranked Percentile Samples: 125\n",
      "25th Percentile Index Value - Original Percentile Samples: 138 \n",
      "\n",
      "50th Percentile Index Value - Percentile Samples: 250\n",
      "50th Percentile Index Value - Original Percentile Samples: 274 \n",
      "\n",
      "75th Percentile Index Value - Percentile Samples: 375\n",
      "75th Percentile Index Value - Original Percentile Samples: 92\n",
      "\n",
      "Upper Interval Index Value - Ranked Percentile Samples: 476\n",
      "Upper Interval Index Value - Original Percentile Samples: 349 \n",
      "\n"
     ]
    }
   ],
   "source": [
    "print(f'Lower Interval Index Value - Ranked Percentile Samples: {lower_percentile_rank_value}')\n",
    "print(f'Lower Interval Index Value - Original Percentile Samples: {lower_percentile_sample_row_original_index} \\n')\n",
    "\n",
    "print(f'25th Percentile Index Value - Ranked Percentile Samples: {int(np.floor(number_of_bootstrap_samples*0.25))}')\n",
    "print(f'25th Percentile Index Value - Original Percentile Samples: {percentile_sample_row_25_original_index} \\n')\n",
    "\n",
    "print(f'50th Percentile Index Value - Percentile Samples: {int(np.floor(number_of_bootstrap_samples*0.50))}')\n",
    "print(f'50th Percentile Index Value - Original Percentile Samples: {percentile_sample_row_50_original_index} \\n')\n",
    "\n",
    "print(f'75th Percentile Index Value - Percentile Samples: {int(np.floor(number_of_bootstrap_samples*0.75))}')\n",
    "print(f'75th Percentile Index Value - Original Percentile Samples: {percentile_sample_row_75_original_index}\\n')\n",
    "\n",
    "print(f'Upper Interval Index Value - Ranked Percentile Samples: {upper_percentile_rank_value}')\n",
    "print(f'Upper Interval Index Value - Original Percentile Samples: {upper_percentile_sample_row_original_index} \\n')"
   ]
  },
  {
   "cell_type": "markdown",
   "metadata": {},
   "source": [
    "### Save Means Comparison Values Dataframe to CSV"
   ]
  },
  {
   "cell_type": "code",
   "execution_count": 73,
   "metadata": {},
   "outputs": [],
   "source": [
    "df_percentile_means_comparison = pd.DataFrame({\n",
    "    'Original Sample': df_original_data['Response (In Dollars)'],\n",
    "    'Lower Percentile Bootstrap Sample': lower_percentile_bootstrap_sample,\n",
    "    'Upper Percentile Bootstrap Sample': upper_percentile_bootstrap_sample,\n",
    "    '25th Percentile': percentile_bootstrap_sample_25th,\n",
    "    '50th Percentile (Median)': percentile_bootstrap_sample_50th,\n",
    "    '75th Percentile': percentile_bootstrap_sample_75th\n",
    "})"
   ]
  },
  {
   "cell_type": "code",
   "execution_count": 74,
   "metadata": {},
   "outputs": [],
   "source": [
    "# Save our dataframe to a csv file\n",
    "df_percentile_means_comparison.to_csv('../Data/Percentile Means Comparison Samples.csv')"
   ]
  },
  {
   "cell_type": "code",
   "execution_count": 75,
   "metadata": {},
   "outputs": [],
   "source": [
    "# Load the dataframe from the csv file (if necessary)\n",
    "df_percentile_comparison = pd.read_csv('../Data/Percentile Means Comparison Samples.csv').drop('Unnamed: 0', axis=1)"
   ]
  },
  {
   "cell_type": "markdown",
   "metadata": {},
   "source": [
    "### Clean Dataframe for Graph"
   ]
  },
  {
   "cell_type": "code",
   "execution_count": 76,
   "metadata": {},
   "outputs": [],
   "source": [
    "df_percentile_means_comparison_renamed = df_percentile_comparison.copy().rename(columns={\n",
    "    'Original Sample' : 'Original',\n",
    "    'Lower Percentile Bootstrap Sample': 'Lower Bound',\n",
    "    '25th Percentile' : '25%',\n",
    "    '50th Percentile (Median)': 'Median',\n",
    "    '75th Percentile' : '75%',\n",
    "    'Upper Percentile Bootstrap Sample': 'Upper Bound'\n",
    "})"
   ]
  },
  {
   "cell_type": "code",
   "execution_count": 77,
   "metadata": {},
   "outputs": [
    {
     "data": {
      "text/plain": [
       "Original Sample                      56.400000\n",
       "Lower Percentile Bootstrap Sample    41.600000\n",
       "Upper Percentile Bootstrap Sample    75.466667\n",
       "25th Percentile                      49.333333\n",
       "50th Percentile (Median)             55.733333\n",
       "75th Percentile                      63.733333\n",
       "dtype: float64"
      ]
     },
     "execution_count": 77,
     "metadata": {},
     "output_type": "execute_result"
    }
   ],
   "source": [
    "df_percentile_means_comparison.mean()"
   ]
  },
  {
   "cell_type": "markdown",
   "metadata": {},
   "source": [
    "### Boxplot Graph"
   ]
  },
  {
   "cell_type": "code",
   "execution_count": 78,
   "metadata": {},
   "outputs": [
    {
     "data": {
      "image/png": "[encoded data removed]",
      "text/plain": [
       "<Figure size 640x480 with 1 Axes>"
      ]
     },
     "metadata": {},
     "output_type": "display_data"
    }
   ],
   "source": [
    "# I want to show the original and then the remaining samples in order of the sample mean.\n",
    "order = ['Original', 'Lower Bound', '25%', 'Median', '75%', 'Upper Bound']\n",
    "\n",
    "# Draw the boxplot\n",
    "ax = sns.boxplot(data=df_percentile_means_comparison_renamed, order=order, palette=['g', 'r', 'r', 'b', 'b', 'b'], showmeans=True, meanprops={'marker':'D', 'markerfacecolor':'gold', 'markeredgecolor':'black'})\n",
    "plt.xticks(rotation=45)\n",
    "\n",
    "# Add grey background\n",
    "ax.set_facecolor('#eafff5')\n",
    "\n",
    "# Labels\n",
    "ax.set_ylabel('Response (In Dollars)', color='black')\n",
    "\n",
    "# Add Layout Setting & Title\n",
    "plt.title('Percentile Method Means')\n",
    "plt.tight_layout()\n",
    "\n",
    "# Show the plot\n",
    "plt.show()"
   ]
  },
  {
   "cell_type": "markdown",
   "metadata": {},
   "source": [
    "## Percentile Method: Graph the Outcomes (Standard Deviations)"
   ]
  },
  {
   "cell_type": "markdown",
   "metadata": {},
   "source": [
    "### Percentile Method Standard Deviations"
   ]
  },
  {
   "cell_type": "code",
   "execution_count": 79,
   "metadata": {},
   "outputs": [],
   "source": [
    "# Our Confidence Interval Sample Values\n",
    "lower_percentile_sample_row = df_parameter_estimates_percentile.loc[df_parameter_estimates_percentile['Sample Standard Deviation Rank'] == lower_percentile_rank_value]\n",
    "lower_percentile_sample_row_original_index = int(lower_percentile_sample_row.iloc[0]['Original Index'])\n",
    "\n",
    "upper_percentile_sample_row = df_parameter_estimates_percentile.loc[df_parameter_estimates_percentile['Sample Standard Deviation Rank'] == upper_percentile_rank_value]\n",
    "upper_percentile_sample_row_original_index = int(upper_percentile_sample_row.iloc[0]['Original Index'])"
   ]
  },
  {
   "cell_type": "code",
   "execution_count": 80,
   "metadata": {},
   "outputs": [],
   "source": [
    "# We want boxplots for these, so we'll fetch them from the original bootstrap sample list.\n",
    "upper_percentile_bootstrap_sample = df_bootstrap_samples[f'Bootstrap Sample {upper_percentile_sample_row_original_index}']\n",
    "lower_percentile_bootstrap_sample = df_bootstrap_samples[f'Bootstrap Sample {lower_percentile_sample_row_original_index}']"
   ]
  },
  {
   "cell_type": "code",
   "execution_count": 81,
   "metadata": {},
   "outputs": [],
   "source": [
    "# Our Confidence Interval Sample Values\n",
    "lower_percentile_sample_row = df_parameter_estimates_percentile.loc[df_parameter_estimates_percentile['Sample Standard Deviation Rank'] == lower_percentile_rank_value]\n",
    "lower_percentile_sample_row_original_index = int(lower_percentile_sample_row.iloc[0]['Original Index'])\n",
    "\n",
    "upper_percentile_sample_row = df_parameter_estimates_percentile.loc[df_parameter_estimates_percentile['Sample Standard Deviation Rank'] == upper_percentile_rank_value]\n",
    "upper_percentile_sample_row_original_index = int(upper_percentile_sample_row.iloc[0]['Original Index'])"
   ]
  },
  {
   "cell_type": "code",
   "execution_count": 82,
   "metadata": {},
   "outputs": [],
   "source": [
    "# We want boxplots for these, so we'll fetch them from the original bootstrap sample list.\n",
    "upper_percentile_bootstrap_sample = df_bootstrap_samples[f'Bootstrap Sample {upper_percentile_sample_row_original_index}']\n",
    "lower_percentile_bootstrap_sample = df_bootstrap_samples[f'Bootstrap Sample {lower_percentile_sample_row_original_index}']"
   ]
  },
  {
   "cell_type": "code",
   "execution_count": 83,
   "metadata": {},
   "outputs": [],
   "source": [
    "# We will include the 25th, 50th, and 75th percentile values for comparison.\n",
    "percentile_sample_row_25 = df_parameter_estimates_percentile.loc[df_parameter_estimates_percentile['Sample Standard Deviation Rank'] == int(np.floor(number_of_bootstrap_samples*0.25))]\n",
    "percentile_sample_row_25_original_index = int(percentile_sample_row_25.iloc[0]['Original Index'])\n",
    "percentile_bootstrap_sample_25th = df_bootstrap_samples[f'Bootstrap Sample {percentile_sample_row_25_original_index}']\n",
    "\n",
    "percentile_sample_row_50 = df_parameter_estimates_percentile.loc[df_parameter_estimates_percentile['Sample Standard Deviation Rank'] == int(np.floor(number_of_bootstrap_samples*0.50))]\n",
    "percentile_sample_row_50_original_index = int(percentile_sample_row_50.iloc[0]['Original Index'])\n",
    "percentile_bootstrap_sample_50th = df_bootstrap_samples[f'Bootstrap Sample {percentile_sample_row_50_original_index}']\n",
    "\n",
    "percentile_sample_row_75 = df_parameter_estimates_percentile.loc[df_parameter_estimates_percentile['Sample Standard Deviation Rank'] == int(np.floor(number_of_bootstrap_samples*0.75))]\n",
    "percentile_sample_row_75_original_index = int(percentile_sample_row_75.iloc[0]['Original Index'])\n",
    "percentile_bootstrap_sample_75th = df_bootstrap_samples[f'Bootstrap Sample {percentile_sample_row_75_original_index}']"
   ]
  },
  {
   "cell_type": "code",
   "execution_count": 84,
   "metadata": {},
   "outputs": [
    {
     "name": "stdout",
     "output_type": "stream",
     "text": [
      "Lower Interval Index Value - Ranked Percentile Samples: 26\n",
      "Lower Interval Index Value - Original Percentile Samples: 385 \n",
      "\n",
      "25th Percentile Index Value - Ranked Percentile Samples: 125\n",
      "25th Percentile Index Value - Original Percentile Samples: 369 \n",
      "\n",
      "50th Percentile Index Value - Percentile Samples: 250\n",
      "50th Percentile Index Value - Original Percentile Samples: 357 \n",
      "\n",
      "75th Percentile Index Value - Percentile Samples: 375\n",
      "75th Percentile Index Value - Original Percentile Samples: 296\n",
      "\n",
      "Upper Interval Index Value - Ranked Percentile Samples: 476\n",
      "Upper Interval Index Value - Original Percentile Samples: 462 \n",
      "\n"
     ]
    }
   ],
   "source": [
    "print(f'Lower Interval Index Value - Ranked Percentile Samples: {lower_percentile_rank_value}')\n",
    "print(f'Lower Interval Index Value - Original Percentile Samples: {lower_percentile_sample_row_original_index} \\n')\n",
    "\n",
    "print(f'25th Percentile Index Value - Ranked Percentile Samples: {int(np.floor(number_of_bootstrap_samples*0.25))}')\n",
    "print(f'25th Percentile Index Value - Original Percentile Samples: {percentile_sample_row_25_original_index} \\n')\n",
    "\n",
    "print(f'50th Percentile Index Value - Percentile Samples: {int(np.floor(number_of_bootstrap_samples*0.50))}')\n",
    "print(f'50th Percentile Index Value - Original Percentile Samples: {percentile_sample_row_50_original_index} \\n')\n",
    "\n",
    "print(f'75th Percentile Index Value - Percentile Samples: {int(np.floor(number_of_bootstrap_samples*0.75))}')\n",
    "print(f'75th Percentile Index Value - Original Percentile Samples: {percentile_sample_row_75_original_index}\\n')\n",
    "\n",
    "print(f'Upper Interval Index Value - Ranked Percentile Samples: {upper_percentile_rank_value}')\n",
    "print(f'Upper Interval Index Value - Original Percentile Samples: {upper_percentile_sample_row_original_index} \\n')"
   ]
  },
  {
   "cell_type": "markdown",
   "metadata": {},
   "source": [
    "### Save Standard Deviations Comparison Values Dataframe to CSV"
   ]
  },
  {
   "cell_type": "code",
   "execution_count": 85,
   "metadata": {},
   "outputs": [],
   "source": [
    "df_percentile_standard_deviations_comparison = pd.DataFrame({\n",
    "    'Original Sample': df_original_data['Response (In Dollars)'],\n",
    "    'Lower Percentile Bootstrap Sample': lower_percentile_bootstrap_sample,\n",
    "    'Upper Percentile Bootstrap Sample': upper_percentile_bootstrap_sample,\n",
    "    '25th Percentile': percentile_bootstrap_sample_25th,\n",
    "    '50th Percentile (Median)': percentile_bootstrap_sample_50th,\n",
    "    '75th Percentile': percentile_bootstrap_sample_75th\n",
    "})"
   ]
  },
  {
   "cell_type": "code",
   "execution_count": 86,
   "metadata": {},
   "outputs": [],
   "source": [
    "# Save our dataframe to a csv file\n",
    "df_percentile_standard_deviations_comparison.to_csv('../Data/Percentile Means Comparison Samples.csv')"
   ]
  },
  {
   "cell_type": "code",
   "execution_count": 87,
   "metadata": {},
   "outputs": [],
   "source": [
    "# Load the dataframe from the csv file (if necessary)\n",
    "df_percentile_standard_deviations_comparison = pd.read_csv('../Data/Percentile Means Comparison Samples.csv').drop('Unnamed: 0', axis=1)"
   ]
  },
  {
   "cell_type": "markdown",
   "metadata": {},
   "source": [
    "### Clean Up Dataframe for Plot"
   ]
  },
  {
   "cell_type": "code",
   "execution_count": 88,
   "metadata": {},
   "outputs": [],
   "source": [
    "df_percentile_standard_deviations_comparison_renamed = df_percentile_comparison.copy().rename(columns={\n",
    "    'Original Sample' : 'Original',\n",
    "    'Lower Percentile Bootstrap Sample': 'Lower Bound',\n",
    "    '25th Percentile' : '25%',\n",
    "    '50th Percentile (Median)': 'Median',\n",
    "    '75th Percentile' : '75%',\n",
    "    'Upper Percentile Bootstrap Sample': 'Upper Bound'\n",
    "})"
   ]
  },
  {
   "cell_type": "code",
   "execution_count": 89,
   "metadata": {},
   "outputs": [
    {
     "data": {
      "text/plain": [
       "Original       43.859842\n",
       "Lower Bound    25.502941\n",
       "Upper Bound    50.594843\n",
       "25%            31.927746\n",
       "Median         32.258923\n",
       "75%            50.044932\n",
       "dtype: float64"
      ]
     },
     "execution_count": 89,
     "metadata": {},
     "output_type": "execute_result"
    }
   ],
   "source": [
    "df_percentile_standard_deviations_comparison_renamed.std()"
   ]
  },
  {
   "cell_type": "markdown",
   "metadata": {},
   "source": [
    "### Line Plot"
   ]
  },
  {
   "cell_type": "code",
   "execution_count": 90,
   "metadata": {},
   "outputs": [
    {
     "data": {
      "text/plain": [
       "<Figure size 640x480 with 0 Axes>"
      ]
     },
     "metadata": {},
     "output_type": "display_data"
    },
    {
     "data": {
      "image/png": "[encoded data removed]",
      "text/plain": [
       "<Figure size 1500x500 with 1 Axes>"
      ]
     },
     "metadata": {},
     "output_type": "display_data"
    }
   ],
   "source": [
    "# Clear the plot, in case there's any artifacts from a previous plot.\n",
    "plt.clf()\n",
    "\n",
    "# We want them all to be in a single plot.\n",
    "plt.figure(figsize=(15, 5))\n",
    "\n",
    "# Define the order of columns as they should appear in the plot.\n",
    "column_order = ['Original', 'Lower Bound', '25%', 'Median', '75%', 'Upper Bound']\n",
    "\n",
    "# Set the initial x-coordinate.\n",
    "x_coord = 1\n",
    "\n",
    "# Set the width of each line plot.\n",
    "line_width = 0.3\n",
    "\n",
    "# We iterate over each column in the desired order and draw the lines.\n",
    "for column_name in column_order:\n",
    "    # Extract the column of interest from the dataframe\n",
    "    column_values = df_percentile_standard_deviations_comparison_renamed[column_name]\n",
    "\n",
    "    # Calculate the Mean and Standard Deviation values.\n",
    "    mean_value = column_values.mean()\n",
    "    std_dev = column_values.std()\n",
    "\n",
    "    # Set the Max, Mean, and Min values.\n",
    "    lower_value = column_values.min()\n",
    "    middle_value = mean_value\n",
    "    upper_value = column_values.max()\n",
    "\n",
    "    # We want to show a spread for the std. dev. based on the mean, so we'll have half the std. dev. value above the mean and half below.\n",
    "    point1 = mean_value + std_dev/2\n",
    "    point2 = mean_value - std_dev/2\n",
    "\n",
    "    # Plot the line with adjusted width.\n",
    "    plt.plot([x_coord, x_coord], [lower_value, upper_value], color='blue', linestyle='-', marker='o', linewidth=line_width)\n",
    "\n",
    "    # Plot the mean point.\n",
    "    plt.plot(x_coord, middle_value, color='red', marker='D')\n",
    "\n",
    "    # Plot standard deviation spread points.\n",
    "    plt.plot(x_coord, point1, color='green', marker='d')\n",
    "    plt.plot(x_coord, point2, color='green', marker='d')\n",
    "\n",
    "    # Plot line segments.\n",
    "    plt.plot([x_coord, x_coord], [middle_value, point1], color='green', linestyle='--')\n",
    "    plt.plot([x_coord, x_coord], [middle_value, point2], color='green', linestyle='--')\n",
    "\n",
    "    # Increment the x-coordinate for the next plot so that the lines don't all overlap.\n",
    "    x_coord += 1\n",
    "\n",
    "# Add background color.\n",
    "plt.gca().set_facecolor('#eafff5')\n",
    "\n",
    "# Labels\n",
    "plt.ylabel('Response (In Dollars)', color='black')\n",
    "plt.xlabel('Samples', color='black')\n",
    "\n",
    "# Set 'x-axis' ticks and labels (Instead of x numbers, we get the column labels).\n",
    "plt.xticks(range(1, len(column_order) + 1), column_order)\n",
    "\n",
    "# Rotate the 'x-axis' Labels.\n",
    "plt.xticks(rotation=45)\n",
    "\n",
    "# Set the x-axis limits to reduce space between lines.\n",
    "plt.xlim(0.5, len(column_order) + 0.5)\n",
    "\n",
    "# Add Layout Setting & Title\n",
    "plt.title('Percentile Method Standard Deviations')\n",
    "plt.tight_layout()\n",
    "\n",
    "# Show the plot\n",
    "plt.show()\n"
   ]
  },
  {
   "cell_type": "markdown",
   "metadata": {},
   "source": [
    "# Bootstrap t Method"
   ]
  },
  {
   "cell_type": "markdown",
   "metadata": {},
   "source": [
    "## Create Bootstrap Sample Dataframe and Generate Samples"
   ]
  },
  {
   "cell_type": "code",
   "execution_count": 106,
   "metadata": {},
   "outputs": [],
   "source": [
    "# Define a function that will sample, with replacement, from the original sample for the prescribed number of times.\n",
    "def generage_bootstrap_samples(data):\n",
    "    return np.random.choice(data, size=len(data), replace=True)"
   ]
  },
  {
   "cell_type": "code",
   "execution_count": 107,
   "metadata": {},
   "outputs": [],
   "source": [
    "# Create our empty dataframe.\n",
    "df_bootstrap_t_samples = pd.DataFrame(index=range(len(df_original_data)), columns=[f'Bootstrap Sample {i+1}' for i in range(number_of_bootstrap_t_samples)])"
   ]
  },
  {
   "cell_type": "code",
   "execution_count": 108,
   "metadata": {},
   "outputs": [],
   "source": [
    "# Generate our samples.\n",
    "for i in range(number_of_bootstrap_t_samples):\n",
    "    bootstrap_t_sample_values = generage_bootstrap_samples(df_original_data['Response (In Dollars)'])\n",
    "    df_bootstrap_t_samples[f'Bootstrap Sample {i+1}'] = bootstrap_t_sample_values"
   ]
  },
  {
   "cell_type": "code",
   "execution_count": 109,
   "metadata": {},
   "outputs": [],
   "source": [
    "# Save the dataframe\n",
    "df_bootstrap_t_samples.to_csv('../Data/bootstrap_t_samples.csv')"
   ]
  },
  {
   "cell_type": "code",
   "execution_count": 112,
   "metadata": {},
   "outputs": [],
   "source": [
    "# Load the dataframe, if necessary\n",
    "df_bootstrap_t_samples = pd.read_csv('../Data/bootstrap_t_samples.csv').drop('Unnamed: 0', axis=1)"
   ]
  },
  {
   "cell_type": "markdown",
   "metadata": {},
   "source": [
    "## Generate Bootstrap t Parameters"
   ]
  },
  {
   "cell_type": "code",
   "execution_count": 5,
   "metadata": {},
   "outputs": [
    {
     "name": "stdout",
     "output_type": "stream",
     "text": [
      "The Original Mean Is: 56.4\n",
      "The Original Standard Deviation Is: 43.85984170383785\n"
     ]
    }
   ],
   "source": [
    "original_mean = df_original_data['Response (In Dollars)'].mean()\n",
    "original_standard_deviation = df_original_data['Response (In Dollars)'].std()\n",
    "\n",
    "print(f'The Original Mean Is: {original_mean}')\n",
    "print(f'The Original Standard Deviation Is: {original_standard_deviation}')"
   ]
  },
  {
   "cell_type": "code",
   "execution_count": 12,
   "metadata": {},
   "outputs": [],
   "source": [
    "# Create our dataframe\n",
    "df_parameter_estimates_bootstrap_t = pd.DataFrame(index=range(1, number_of_bootstrap_samples + 1), columns=['Original Index', 'Sample Mean', 'Sample Mean Rank', 'Sample Standard Deviation', 'Sample Standard Deviation Rank'])"
   ]
  },
  {
   "cell_type": "code",
   "execution_count": 15,
   "metadata": {},
   "outputs": [],
   "source": [
    "# Populate the DataFrame with the parameter values.\n",
    "for i in range(1, number_of_bootstrap_t_samples + 1):\n",
    "    # Get the i-th bootstrap sample from our bootstrap samples dataframe.\n",
    "    bootstrap_t_sample = df_bootstrap_t_samples[f'Bootstrap Sample {i}']\n",
    "    \n",
    "    # Calculate the sample parameters.\n",
    "    sample_mean = bootstrap_t_sample.mean()\n",
    "    sample_standard_deviation = bootstrap_t_sample.std()\n",
    "\n",
    "    # Calculate t Values\n",
    "    sample_mean_t_value = (sample_mean - original_mean)/(sample_standard_deviation/np.sqrt(number_of_values_per_sample))\n",
    "    \n",
    "    # Populate DataFrame\n",
    "    df_parameter_estimates_bootstrap_t.loc[i, 'Original Index'] = i\n",
    "    df_parameter_estimates_bootstrap_t.loc[i, 'Sample Mean'] = sample_mean\n",
    "    df_parameter_estimates_bootstrap_t.loc[i, \"Sample Mean t Value\"] = sample_mean_t_value\n",
    "    df_parameter_estimates_bootstrap_t.loc[i, 'Sample Standard Deviation'] = sample_standard_deviation"
   ]
  },
  {
   "cell_type": "markdown",
   "metadata": {},
   "source": [
    "## Order Bootstrap t Parameter Values"
   ]
  },
  {
   "cell_type": "code",
   "execution_count": 16,
   "metadata": {},
   "outputs": [],
   "source": [
    "# Rank order the sample means\n",
    "df_parameter_estimates_bootstrap_t.sort_values(by='Sample Mean', inplace=True)\n",
    "df_parameter_estimates_bootstrap_t['Sample Mean Rank'] = range(1, number_of_bootstrap_t_samples + 1)\n",
    "df_parameter_estimates_bootstrap_t.sort_values(by='Original Index', inplace=True)"
   ]
  },
  {
   "cell_type": "code",
   "execution_count": 17,
   "metadata": {},
   "outputs": [],
   "source": [
    "# Rank order the sample standard deviations\n",
    "df_parameter_estimates_bootstrap_t.sort_values(by='Sample Standard Deviation', inplace=True)\n",
    "df_parameter_estimates_bootstrap_t['Sample Standard Deviation Rank'] = range(1, number_of_bootstrap_t_samples + 1)\n",
    "df_parameter_estimates_bootstrap_t.sort_values(by='Original Index', inplace=True)"
   ]
  },
  {
   "cell_type": "code",
   "execution_count": 18,
   "metadata": {},
   "outputs": [],
   "source": [
    "# Rank order the sample mean t values\n",
    "df_parameter_estimates_bootstrap_t.sort_values(by='Sample Mean t Value', inplace=True)\n",
    "df_parameter_estimates_bootstrap_t['Sample Mean t Value Rank'] = range(1, number_of_bootstrap_t_samples + 1)\n",
    "df_parameter_estimates_bootstrap_t.sort_values(by='Original Index', inplace=True)"
   ]
  },
  {
   "cell_type": "markdown",
   "metadata": {},
   "source": [
    "## Find the Confidence Intervals and Their Indicies"
   ]
  },
  {
   "cell_type": "code",
   "execution_count": 19,
   "metadata": {},
   "outputs": [
    {
     "name": "stdout",
     "output_type": "stream",
     "text": [
      "Bootstrap t Method Alpha Value: 0.1.\n",
      "Lower Bootstrap t Rank Value: 26.\n",
      "Upper Bootstrap t Rank Value: 476.\n"
     ]
    }
   ],
   "source": [
    "bootstrap_t_lower_percentile_rank_value = int(np.floor(number_of_bootstrap_t_samples*(bootstrap_t_alpha/2) + 1))\n",
    "bootstrap_t_upper_percentile_rank_value = int(np.floor(number_of_bootstrap_t_samples*(1 - bootstrap_t_alpha/2) + 1))\n",
    "\n",
    "print(f'Bootstrap t Method Alpha Value: {bootstrap_t_alpha}.')\n",
    "print(f'Lower Bootstrap t Rank Value: {bootstrap_t_lower_percentile_rank_value}.')\n",
    "print(f'Upper Bootstrap t Rank Value: {bootstrap_t_upper_percentile_rank_value}.')"
   ]
  },
  {
   "cell_type": "code",
   "execution_count": 21,
   "metadata": {},
   "outputs": [
    {
     "name": "stdout",
     "output_type": "stream",
     "text": [
      "Bootstrap t Method Confidence Interval for T: (-2.2494818133510273,1.6150926679710884).\n",
      "Lower Value Original Index: 217.\n",
      "Upper Value Original Index: 34.\n",
      "Bootstrap t Method Confidence Interval for Mean: (38.109782247422196,81.87439723588069).\n"
     ]
    }
   ],
   "source": [
    "bootstrap_t_lower_percentile_sample_mean_t = df_parameter_estimates_bootstrap_t[df_parameter_estimates_bootstrap_t['Sample Mean t Value Rank'] == bootstrap_t_lower_percentile_rank_value]['Sample Mean t Value'].values[0]\n",
    "bootstrap_t_lower_percentile_sample_mean_t_original_index_value = df_parameter_estimates_bootstrap_t[df_parameter_estimates_bootstrap_t['Sample Mean t Value Rank'] == bootstrap_t_lower_percentile_rank_value]['Original Index'].values[0]\n",
    "\n",
    "\n",
    "bootstrap_t_upper_percentile_sample_mean_t = df_parameter_estimates_bootstrap_t[df_parameter_estimates_bootstrap_t['Sample Mean t Value Rank'] == bootstrap_t_upper_percentile_rank_value]['Sample Mean t Value'].values[0]\n",
    "bootstrap_t_upper_percentile_sample_mean_t_original_index_value = df_parameter_estimates_bootstrap_t[df_parameter_estimates_bootstrap_t['Sample Mean t Value Rank'] == bootstrap_t_upper_percentile_rank_value]['Original Index'].values[0]\n",
    "\n",
    "bootstrap_t_lower_percentile_sample_mean = original_mean - bootstrap_t_upper_percentile_sample_mean_t*(original_standard_deviation/np.sqrt(number_of_values_per_sample))\n",
    "bootstrap_t_upper_percentile_sample_mean = original_mean - bootstrap_t_lower_percentile_sample_mean_t*(original_standard_deviation/np.sqrt(number_of_values_per_sample))\n",
    "\n",
    "print(f'Bootstrap t Method Confidence Interval for T: ({bootstrap_t_lower_percentile_sample_mean_t},{bootstrap_t_upper_percentile_sample_mean_t}).')\n",
    "print(f'Lower Value Original Index: {bootstrap_t_lower_percentile_sample_mean_t_original_index_value}.')\n",
    "print(f'Upper Value Original Index: {bootstrap_t_upper_percentile_sample_mean_t_original_index_value}.')\n",
    "print(f'Bootstrap t Method Confidence Interval for Mean: ({bootstrap_t_lower_percentile_sample_mean},{bootstrap_t_upper_percentile_sample_mean}).')"
   ]
  },
  {
   "cell_type": "code",
   "execution_count": 22,
   "metadata": {},
   "outputs": [
    {
     "data": {
      "text/html": [
       "<div>\n",
       "<style scoped>\n",
       "    .dataframe tbody tr th:only-of-type {\n",
       "        vertical-align: middle;\n",
       "    }\n",
       "\n",
       "    .dataframe tbody tr th {\n",
       "        vertical-align: top;\n",
       "    }\n",
       "\n",
       "    .dataframe thead th {\n",
       "        text-align: right;\n",
       "    }\n",
       "</style>\n",
       "<table border=\"1\" class=\"dataframe\">\n",
       "  <thead>\n",
       "    <tr style=\"text-align: right;\">\n",
       "      <th></th>\n",
       "      <th>Original Index</th>\n",
       "      <th>Sample Mean</th>\n",
       "      <th>Sample Mean Rank</th>\n",
       "      <th>Sample Standard Deviation</th>\n",
       "      <th>Sample Standard Deviation Rank</th>\n",
       "      <th>Sample Mean t Value</th>\n",
       "      <th>Sample Mean t Value Rank</th>\n",
       "    </tr>\n",
       "  </thead>\n",
       "  <tbody>\n",
       "    <tr>\n",
       "      <th>217</th>\n",
       "      <td>217</td>\n",
       "      <td>40.0</td>\n",
       "      <td>26</td>\n",
       "      <td>28.236248</td>\n",
       "      <td>60</td>\n",
       "      <td>-2.249482</td>\n",
       "      <td>26</td>\n",
       "    </tr>\n",
       "  </tbody>\n",
       "</table>\n",
       "</div>"
      ],
      "text/plain": [
       "    Original Index Sample Mean  Sample Mean Rank Sample Standard Deviation  \\\n",
       "217            217        40.0                26                 28.236248   \n",
       "\n",
       "     Sample Standard Deviation Rank  Sample Mean t Value  \\\n",
       "217                              60            -2.249482   \n",
       "\n",
       "     Sample Mean t Value Rank  \n",
       "217                        26  "
      ]
     },
     "execution_count": 22,
     "metadata": {},
     "output_type": "execute_result"
    }
   ],
   "source": [
    "# I just want to verify that these match up:\n",
    "df_parameter_estimates_bootstrap_t[df_parameter_estimates_bootstrap_t['Original Index'] == 217]\n"
   ]
  },
  {
   "cell_type": "code",
   "execution_count": 23,
   "metadata": {},
   "outputs": [
    {
     "data": {
      "text/html": [
       "<div>\n",
       "<style scoped>\n",
       "    .dataframe tbody tr th:only-of-type {\n",
       "        vertical-align: middle;\n",
       "    }\n",
       "\n",
       "    .dataframe tbody tr th {\n",
       "        vertical-align: top;\n",
       "    }\n",
       "\n",
       "    .dataframe thead th {\n",
       "        text-align: right;\n",
       "    }\n",
       "</style>\n",
       "<table border=\"1\" class=\"dataframe\">\n",
       "  <thead>\n",
       "    <tr style=\"text-align: right;\">\n",
       "      <th></th>\n",
       "      <th>Original Index</th>\n",
       "      <th>Sample Mean</th>\n",
       "      <th>Sample Mean Rank</th>\n",
       "      <th>Sample Standard Deviation</th>\n",
       "      <th>Sample Standard Deviation Rank</th>\n",
       "      <th>Sample Mean t Value</th>\n",
       "      <th>Sample Mean t Value Rank</th>\n",
       "    </tr>\n",
       "  </thead>\n",
       "  <tbody>\n",
       "    <tr>\n",
       "      <th>34</th>\n",
       "      <td>34</td>\n",
       "      <td>75.533333</td>\n",
       "      <td>472</td>\n",
       "      <td>45.881628</td>\n",
       "      <td>352</td>\n",
       "      <td>1.615093</td>\n",
       "      <td>476</td>\n",
       "    </tr>\n",
       "  </tbody>\n",
       "</table>\n",
       "</div>"
      ],
      "text/plain": [
       "   Original Index Sample Mean  Sample Mean Rank Sample Standard Deviation  \\\n",
       "34             34   75.533333               472                 45.881628   \n",
       "\n",
       "    Sample Standard Deviation Rank  Sample Mean t Value  \\\n",
       "34                             352             1.615093   \n",
       "\n",
       "    Sample Mean t Value Rank  \n",
       "34                       476  "
      ]
     },
     "execution_count": 23,
     "metadata": {},
     "output_type": "execute_result"
    }
   ],
   "source": [
    "# I just want to verify that these match up:\n",
    "df_parameter_estimates_bootstrap_t[df_parameter_estimates_bootstrap_t['Original Index'] == 34]"
   ]
  },
  {
   "cell_type": "code",
   "execution_count": 28,
   "metadata": {},
   "outputs": [],
   "source": [
    "# Save the dataframe\n",
    "df_parameter_estimates_bootstrap_t.to_csv('../Data/Bootstrap t Estimates Data.csv')"
   ]
  },
  {
   "cell_type": "code",
   "execution_count": 30,
   "metadata": {},
   "outputs": [],
   "source": [
    "# Load the dataframe, if necessary\n",
    "df_parameter_estimates_bootstrap_t = pd.read_csv('../Data/Bootstrap t Estimates Data.csv').drop('Unnamed: 0', axis=1)"
   ]
  },
  {
   "cell_type": "code",
   "execution_count": 31,
   "metadata": {},
   "outputs": [
    {
     "data": {
      "text/html": [
       "<div>\n",
       "<style scoped>\n",
       "    .dataframe tbody tr th:only-of-type {\n",
       "        vertical-align: middle;\n",
       "    }\n",
       "\n",
       "    .dataframe tbody tr th {\n",
       "        vertical-align: top;\n",
       "    }\n",
       "\n",
       "    .dataframe thead th {\n",
       "        text-align: right;\n",
       "    }\n",
       "</style>\n",
       "<table border=\"1\" class=\"dataframe\">\n",
       "  <thead>\n",
       "    <tr style=\"text-align: right;\">\n",
       "      <th></th>\n",
       "      <th>Original Index</th>\n",
       "      <th>Sample Mean</th>\n",
       "      <th>Sample Mean Rank</th>\n",
       "      <th>Sample Standard Deviation</th>\n",
       "      <th>Sample Standard Deviation Rank</th>\n",
       "      <th>Sample Mean t Value</th>\n",
       "      <th>Sample Mean t Value Rank</th>\n",
       "    </tr>\n",
       "  </thead>\n",
       "  <tbody>\n",
       "    <tr>\n",
       "      <th>0</th>\n",
       "      <td>1</td>\n",
       "      <td>37.333333</td>\n",
       "      <td>12</td>\n",
       "      <td>51.367954</td>\n",
       "      <td>426</td>\n",
       "      <td>-1.437567</td>\n",
       "      <td>60</td>\n",
       "    </tr>\n",
       "    <tr>\n",
       "      <th>1</th>\n",
       "      <td>2</td>\n",
       "      <td>54.466667</td>\n",
       "      <td>220</td>\n",
       "      <td>45.306680</td>\n",
       "      <td>339</td>\n",
       "      <td>-0.165269</td>\n",
       "      <td>224</td>\n",
       "    </tr>\n",
       "    <tr>\n",
       "      <th>2</th>\n",
       "      <td>3</td>\n",
       "      <td>58.000000</td>\n",
       "      <td>287</td>\n",
       "      <td>42.262783</td>\n",
       "      <td>256</td>\n",
       "      <td>0.146625</td>\n",
       "      <td>282</td>\n",
       "    </tr>\n",
       "    <tr>\n",
       "      <th>3</th>\n",
       "      <td>4</td>\n",
       "      <td>69.000000</td>\n",
       "      <td>433</td>\n",
       "      <td>38.522721</td>\n",
       "      <td>192</td>\n",
       "      <td>1.266774</td>\n",
       "      <td>453</td>\n",
       "    </tr>\n",
       "    <tr>\n",
       "      <th>4</th>\n",
       "      <td>5</td>\n",
       "      <td>72.200000</td>\n",
       "      <td>460</td>\n",
       "      <td>46.231097</td>\n",
       "      <td>356</td>\n",
       "      <td>1.323636</td>\n",
       "      <td>459</td>\n",
       "    </tr>\n",
       "    <tr>\n",
       "      <th>...</th>\n",
       "      <td>...</td>\n",
       "      <td>...</td>\n",
       "      <td>...</td>\n",
       "      <td>...</td>\n",
       "      <td>...</td>\n",
       "      <td>...</td>\n",
       "      <td>...</td>\n",
       "    </tr>\n",
       "    <tr>\n",
       "      <th>495</th>\n",
       "      <td>496</td>\n",
       "      <td>79.466667</td>\n",
       "      <td>489</td>\n",
       "      <td>53.600195</td>\n",
       "      <td>450</td>\n",
       "      <td>1.666726</td>\n",
       "      <td>484</td>\n",
       "    </tr>\n",
       "    <tr>\n",
       "      <th>496</th>\n",
       "      <td>497</td>\n",
       "      <td>38.800000</td>\n",
       "      <td>19</td>\n",
       "      <td>26.466151</td>\n",
       "      <td>35</td>\n",
       "      <td>-2.575535</td>\n",
       "      <td>19</td>\n",
       "    </tr>\n",
       "    <tr>\n",
       "      <th>497</th>\n",
       "      <td>498</td>\n",
       "      <td>53.200000</td>\n",
       "      <td>194</td>\n",
       "      <td>39.016846</td>\n",
       "      <td>205</td>\n",
       "      <td>-0.317646</td>\n",
       "      <td>190</td>\n",
       "    </tr>\n",
       "    <tr>\n",
       "      <th>498</th>\n",
       "      <td>499</td>\n",
       "      <td>55.800000</td>\n",
       "      <td>246</td>\n",
       "      <td>36.261353</td>\n",
       "      <td>165</td>\n",
       "      <td>-0.064084</td>\n",
       "      <td>248</td>\n",
       "    </tr>\n",
       "    <tr>\n",
       "      <th>499</th>\n",
       "      <td>500</td>\n",
       "      <td>45.133333</td>\n",
       "      <td>75</td>\n",
       "      <td>33.463982</td>\n",
       "      <td>133</td>\n",
       "      <td>-1.303958</td>\n",
       "      <td>69</td>\n",
       "    </tr>\n",
       "  </tbody>\n",
       "</table>\n",
       "<p>500 rows × 7 columns</p>\n",
       "</div>"
      ],
      "text/plain": [
       "     Original Index  Sample Mean  Sample Mean Rank  Sample Standard Deviation  \\\n",
       "0                 1    37.333333                12                  51.367954   \n",
       "1                 2    54.466667               220                  45.306680   \n",
       "2                 3    58.000000               287                  42.262783   \n",
       "3                 4    69.000000               433                  38.522721   \n",
       "4                 5    72.200000               460                  46.231097   \n",
       "..              ...          ...               ...                        ...   \n",
       "495             496    79.466667               489                  53.600195   \n",
       "496             497    38.800000                19                  26.466151   \n",
       "497             498    53.200000               194                  39.016846   \n",
       "498             499    55.800000               246                  36.261353   \n",
       "499             500    45.133333                75                  33.463982   \n",
       "\n",
       "     Sample Standard Deviation Rank  Sample Mean t Value  \\\n",
       "0                               426            -1.437567   \n",
       "1                               339            -0.165269   \n",
       "2                               256             0.146625   \n",
       "3                               192             1.266774   \n",
       "4                               356             1.323636   \n",
       "..                              ...                  ...   \n",
       "495                             450             1.666726   \n",
       "496                              35            -2.575535   \n",
       "497                             205            -0.317646   \n",
       "498                             165            -0.064084   \n",
       "499                             133            -1.303958   \n",
       "\n",
       "     Sample Mean t Value Rank  \n",
       "0                          60  \n",
       "1                         224  \n",
       "2                         282  \n",
       "3                         453  \n",
       "4                         459  \n",
       "..                        ...  \n",
       "495                       484  \n",
       "496                        19  \n",
       "497                       190  \n",
       "498                       248  \n",
       "499                        69  \n",
       "\n",
       "[500 rows x 7 columns]"
      ]
     },
     "execution_count": 31,
     "metadata": {},
     "output_type": "execute_result"
    }
   ],
   "source": [
    "df_parameter_estimates_bootstrap_t"
   ]
  },
  {
   "cell_type": "markdown",
   "metadata": {},
   "source": [
    "## Bootstrap t Method: Graph The Outcomes (Means)"
   ]
  },
  {
   "cell_type": "markdown",
   "metadata": {},
   "source": [
    "### t Histogram"
   ]
  },
  {
   "cell_type": "code",
   "execution_count": 32,
   "metadata": {},
   "outputs": [
    {
     "data": {
      "image/png": "[encoded data removed]",
      "text/plain": [
       "<Figure size 640x480 with 1 Axes>"
      ]
     },
     "metadata": {},
     "output_type": "display_data"
    }
   ],
   "source": [
    "# Get Bootstrap t samples T Values\n",
    "bootstrap_t_values = df_parameter_estimates_bootstrap_t['Sample Mean t Value']\n",
    "\n",
    "# Confidence interval bounds.\n",
    "lower_bound = bootstrap_t_lower_percentile_sample_mean_t\n",
    "upper_bound = bootstrap_t_upper_percentile_sample_mean_t\n",
    "\n",
    "# Plot the histogram.\n",
    "plt.hist(bootstrap_t_values, bins=30, color='blue', alpha=0.7, label='Bootstrap T Values')\n",
    "\n",
    "# Highlight the confidence interval in green.\n",
    "plt.axvspan(lower_bound, upper_bound, color='green', alpha=0.3, label='Confidence Interval')\n",
    "\n",
    "# Add labels and title.\n",
    "plt.xlabel('Bootstrap T Values')\n",
    "plt.ylabel('Frequency')\n",
    "plt.title('Histogram of Bootstrap T Values with Confidence Interval')\n",
    "plt.legend()\n",
    "\n",
    "# Show plot.\n",
    "plt.show()\n"
   ]
  },
  {
   "cell_type": "markdown",
   "metadata": {},
   "source": [
    "### C.I. Histogram"
   ]
  },
  {
   "cell_type": "code",
   "execution_count": 58,
   "metadata": {},
   "outputs": [
    {
     "data": {
      "image/png": "[encoded data removed]",
      "text/plain": [
       "<Figure size 640x480 with 1 Axes>"
      ]
     },
     "metadata": {},
     "output_type": "display_data"
    }
   ],
   "source": [
    "# Bootstrap t samples Sample Mean values.\n",
    "bootstrap_t_sample_means = df_parameter_estimates_bootstrap_t['Sample Mean']\n",
    "\n",
    "# Plot histogram of the means.\n",
    "hist, bins, _ = plt.hist(bootstrap_t_sample_means, bins=30, color='blue', edgecolor='black', alpha=0.7, label='Bootstrap Sample Means')\n",
    "\n",
    "# Highlight the confidence interval in green\n",
    "plt.axvspan(bootstrap_t_lower_percentile_sample_mean, bootstrap_t_upper_percentile_sample_mean, color='green', alpha=0.3, label='Confidence Interval')\n",
    "\n",
    "# Add labels and title\n",
    "plt.xlabel('Bootstrap Sample Means')\n",
    "plt.ylabel('Frequency')\n",
    "plt.title('Histogram of Bootstrap Sample Means')\n",
    "\n",
    "# Add confidence interval information in a legend-style box\n",
    "plt.text(0.97, 0.80, 'Lower Bound: {:.2f}\\n Upper Bound: {:.2f}'.format(bootstrap_t_lower_percentile_sample_mean, bootstrap_t_upper_percentile_sample_mean),\n",
    "         color='black', ha='right', va='top', fontsize=10, bbox=dict(facecolor='lightgray', edgecolor='black', boxstyle='round,pad=0.5', alpha=1), transform=plt.gca().transAxes)\n",
    "\n",
    "# Legend\n",
    "plt.legend(loc='upper right', facecolor='lightgrey', framealpha=1, edgecolor='black')\n",
    "\n",
    "# Show plot\n",
    "plt.show()\n"
   ]
  },
  {
   "cell_type": "markdown",
   "metadata": {},
   "source": [
    "# Whitespace"
   ]
  },
  {
   "cell_type": "code",
   "execution_count": null,
   "metadata": {},
   "outputs": [],
   "source": []
  }
 ],
 "metadata": {
  "kernelspec": {
   "display_name": "Python 3",
   "language": "python",
   "name": "python3"
  },
  "language_info": {
   "codemirror_mode": {
    "name": "ipython",
    "version": 3
   },
   "file_extension": ".py",
   "mimetype": "text/x-python",
   "name": "python",
   "nbconvert_exporter": "python",
   "pygments_lexer": "ipython3",
   "version": "3.10.13"
  }
 },
 "nbformat": 4,
 "nbformat_minor": 2
}
